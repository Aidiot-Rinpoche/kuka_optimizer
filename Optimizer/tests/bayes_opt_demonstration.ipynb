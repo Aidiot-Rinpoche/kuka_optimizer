{
 "cells": [
  {
   "cell_type": "markdown",
   "metadata": {},
   "source": [
    "# Advanced tour of the Bayesian Optimization package"
   ]
  },
  {
   "cell_type": "code",
   "execution_count": 1,
   "metadata": {},
   "outputs": [],
   "source": [
    "import sys\n",
    "sys.path.append('../')\n",
    "from bayes_opt import BayesianOptimization, DiscreteBayesianOptimization\n",
    "from bayes_opt.event import Events, DEFAULT_EVENTS\n",
    "import time\n",
    "import numpy as np\n",
    "n_threads=8\n",
    "from bayes_opt import UtilityFunction"
   ]
  },
  {
   "cell_type": "code",
   "execution_count": 2,
   "metadata": {
    "scrolled": false
   },
   "outputs": [],
   "source": [
    "from test_functions import Parabolic"
   ]
  },
  {
   "cell_type": "markdown",
   "metadata": {},
   "source": [
    "## An easy trial function"
   ]
  },
  {
   "cell_type": "code",
   "execution_count": 3,
   "metadata": {},
   "outputs": [],
   "source": [
    "# Let's start by definying our function, bounds, and instanciating an optimization object.\n",
    "def black_box_function(x, y):\n",
    "    return -x ** 2 - (y - 1) ** 2 + 1"
   ]
  },
  {
   "cell_type": "code",
   "execution_count": 4,
   "metadata": {},
   "outputs": [],
   "source": [
    "optimizer = DiscreteBayesianOptimization(\n",
    "    f=None,\n",
    "    prange={'x': [-2, 2,.3], 'y': [-3, 3,.3]},\n",
    "    verbose=2,\n",
    "    random_state=1\n",
    ")"
   ]
  },
  {
   "cell_type": "code",
   "execution_count": 5,
   "metadata": {},
   "outputs": [],
   "source": [
    "utility = UtilityFunction(kind=\"ucb\", kappa=2.5, xi=0.0)"
   ]
  },
  {
   "cell_type": "code",
   "execution_count": 6,
   "metadata": {},
   "outputs": [
    {
     "name": "stdout",
     "output_type": "stream",
     "text": [
      "Next point to probe is: [{'x': -0.5, 'y': 1.2000000000000002}]\n",
      "Found the target value to be: 0.71\n"
     ]
    }
   ],
   "source": [
    "next_point_to_probe = optimizer.suggest(utility)\n",
    "print(\"Next point to probe is:\", next_point_to_probe)\n",
    "target = black_box_function(**next_point_to_probe[0])\n",
    "print(\"Found the target value to be:\", target)"
   ]
  },
  {
   "cell_type": "code",
   "execution_count": 7,
   "metadata": {},
   "outputs": [],
   "source": [
    "optimizer.register(\n",
    "    params=next_point_to_probe[0],\n",
    "    target=target,\n",
    ")"
   ]
  },
  {
   "cell_type": "markdown",
   "metadata": {},
   "source": [
    "## Vladimir's test function"
   ]
  },
  {
   "cell_type": "code",
   "execution_count": 8,
   "metadata": {},
   "outputs": [
    {
     "name": "stdout",
     "output_type": "stream",
     "text": [
      "{'x_0': (0, 1, 0.01), 'x_1': (0, 1, 0.01), 'x_2': (0, 1, 0.01), 'x_3': (0, 1, 0.01)}\n"
     ]
    }
   ],
   "source": [
    "DIM=4\n",
    "prange={}\n",
    "pbounds={}\n",
    "for i in range(DIM):\n",
    "    prange[f'x_{i}'] = (0,1,0.01)\n",
    "    pbounds[f'x_{i}'] = (0,1)\n",
    "parabolic = Parabolic('joint',DIM)\n",
    "func = parabolic.f\n",
    "print(prange)"
   ]
  },
  {
   "cell_type": "markdown",
   "metadata": {},
   "source": [
    "## Discrete optimization using  self-contained optimizer"
   ]
  },
  {
   "cell_type": "code",
   "execution_count": 9,
   "metadata": {},
   "outputs": [
    {
     "name": "stdout",
     "output_type": "stream",
     "text": [
      "|   iter    |  target   |    x_0    |    x_1    |    x_2    |    x_3    |\n",
      "-------------------------------------------------------------------------\n",
      "| \u001b[0m 1       \u001b[0m | \u001b[0m-1.567   \u001b[0m | \u001b[0m 0.417   \u001b[0m | \u001b[0m 0.7203  \u001b[0m | \u001b[0m 0.000114\u001b[0m | \u001b[0m 0.3023  \u001b[0m |\n",
      "| \u001b[0m 1       \u001b[0m | \u001b[0m-1.567   \u001b[0m | \u001b[0m 0.41    \u001b[0m | \u001b[0m 0.72    \u001b[0m | \u001b[0m 0.0     \u001b[0m | \u001b[0m 0.3     \u001b[0m |\n",
      "| \u001b[0m 2       \u001b[0m | \u001b[0m-1.866   \u001b[0m | \u001b[0m 0.1468  \u001b[0m | \u001b[0m 0.09234 \u001b[0m | \u001b[0m 0.1863  \u001b[0m | \u001b[0m 0.3456  \u001b[0m |\n",
      "| \u001b[0m 2       \u001b[0m | \u001b[0m-1.866   \u001b[0m | \u001b[0m 0.14    \u001b[0m | \u001b[0m 0.09    \u001b[0m | \u001b[0m 0.18    \u001b[0m | \u001b[0m 0.34    \u001b[0m |\n",
      "| \u001b[95m 3       \u001b[0m | \u001b[95m-0.04125 \u001b[0m | \u001b[95m 1.0     \u001b[0m | \u001b[95m 1.0     \u001b[0m | \u001b[95m 1.0     \u001b[0m | \u001b[95m 1.0     \u001b[0m |\n",
      "| \u001b[95m 3       \u001b[0m | \u001b[95m-0.04125 \u001b[0m | \u001b[95m 1.0     \u001b[0m | \u001b[95m 1.0     \u001b[0m | \u001b[95m 1.0     \u001b[0m | \u001b[95m 1.0     \u001b[0m |\n",
      "| \u001b[95m 4       \u001b[0m | \u001b[95m 0.9864  \u001b[0m | \u001b[95m 1.0     \u001b[0m | \u001b[95m 1.0     \u001b[0m | \u001b[95m 1.0     \u001b[0m | \u001b[95m 0.0     \u001b[0m |\n",
      "| \u001b[95m 4       \u001b[0m | \u001b[95m 0.9864  \u001b[0m | \u001b[95m 1.0     \u001b[0m | \u001b[95m 1.0     \u001b[0m | \u001b[95m 1.0     \u001b[0m | \u001b[95m 0.0     \u001b[0m |\n",
      "=========================================================================\n",
      "Maximum value found using discrete GPs: 0.986418244015935\n",
      "Time taken: 1.4327080249786377 seconds for 2 iterations\n"
     ]
    }
   ],
   "source": [
    "start = time.time()\n",
    "n_iter =2\n",
    "dbo = DiscreteBayesianOptimization(\n",
    "    f=parabolic.f,\n",
    "    prange=prange,\n",
    "    verbose=2,\n",
    "    random_state=1\n",
    ")\n",
    "dbo.maximize(init_points=2,n_iter=n_iter)\n",
    "print(\"Maximum value found using discrete GPs: {}\".format(dbo.max['target']))\n",
    "print(\"Time taken: {} seconds for {} iterations\".format(time.time()-start,n_iter))\n",
    "del dbo"
   ]
  },
  {
   "cell_type": "markdown",
   "metadata": {},
   "source": [
    "## Continuous optimization using self-contained optimizer"
   ]
  },
  {
   "cell_type": "code",
   "execution_count": 10,
   "metadata": {},
   "outputs": [
    {
     "name": "stdout",
     "output_type": "stream",
     "text": [
      "|   iter    |  target   |    x_0    |    x_1    |    x_2    |    x_3    |\n",
      "-------------------------------------------------------------------------\n",
      "| \u001b[0m 1       \u001b[0m | \u001b[0m-1.567   \u001b[0m | \u001b[0m 0.417   \u001b[0m | \u001b[0m 0.7203  \u001b[0m | \u001b[0m 0.000114\u001b[0m | \u001b[0m 0.3023  \u001b[0m |\n",
      "| \u001b[0m 2       \u001b[0m | \u001b[0m-1.866   \u001b[0m | \u001b[0m 0.1468  \u001b[0m | \u001b[0m 0.09234 \u001b[0m | \u001b[0m 0.1863  \u001b[0m | \u001b[0m 0.3456  \u001b[0m |\n",
      "| \u001b[95m 3       \u001b[0m | \u001b[95m-0.04125 \u001b[0m | \u001b[95m 1.0     \u001b[0m | \u001b[95m 1.0     \u001b[0m | \u001b[95m 1.0     \u001b[0m | \u001b[95m 1.0     \u001b[0m |\n",
      "| \u001b[95m 4       \u001b[0m | \u001b[95m 0.9864  \u001b[0m | \u001b[95m 1.0     \u001b[0m | \u001b[95m 1.0     \u001b[0m | \u001b[95m 1.0     \u001b[0m | \u001b[95m 0.0     \u001b[0m |\n",
      "=========================================================================\n",
      "Maximum value found using discrete GPs: 0.986418244015935\n",
      "Time taken: 1.371074914932251 seconds for 2 iterations\n"
     ]
    }
   ],
   "source": [
    "start = time.time()\n",
    "n_iter =2\n",
    "bo = BayesianOptimization(\n",
    "    f=parabolic.f,\n",
    "    pbounds=pbounds,\n",
    "    verbose=2,\n",
    "    random_state=1\n",
    ")\n",
    "bo.maximize(init_points=2,n_iter=n_iter)\n",
    "print(\"Maximum value found using discrete GPs: {}\".format(bo.max['target']))\n",
    "print(\"Time taken: {} seconds for {} iterations\".format(time.time()-start,n_iter))"
   ]
  },
  {
   "cell_type": "markdown",
   "metadata": {},
   "source": [
    "## Discrete optimization using class methods\n",
    "This will be how the general KUKA program is written. "
   ]
  },
  {
   "cell_type": "code",
   "execution_count": 11,
   "metadata": {
    "scrolled": false
   },
   "outputs": [
    {
     "name": "stdout",
     "output_type": "stream",
     "text": [
      "|   iter    |  target   |    x_0    |    x_1    |    x_2    |    x_3    |\n",
      "-------------------------------------------------------------------------\n",
      "| \u001b[0m 1       \u001b[0m | \u001b[0m-1.583   \u001b[0m | \u001b[0m 0.4101  \u001b[0m | \u001b[0m 0.7193  \u001b[0m | \u001b[0m-0.000185\u001b[0m | \u001b[0m 0.3005  \u001b[0m |\n",
      "| \u001b[0m 1       \u001b[0m | \u001b[0m-1.583   \u001b[0m | \u001b[0m 0.41    \u001b[0m | \u001b[0m 0.71    \u001b[0m | \u001b[0m-0.01    \u001b[0m | \u001b[0m 0.3     \u001b[0m |\n",
      "| \u001b[0m 2       \u001b[0m | \u001b[0m-1.914   \u001b[0m | \u001b[0m 0.139   \u001b[0m | \u001b[0m 0.09092 \u001b[0m | \u001b[0m 0.1803  \u001b[0m | \u001b[0m 0.3404  \u001b[0m |\n",
      "| \u001b[0m 2       \u001b[0m | \u001b[0m-1.914   \u001b[0m | \u001b[0m 0.13    \u001b[0m | \u001b[0m 0.09    \u001b[0m | \u001b[0m 0.18    \u001b[0m | \u001b[0m 0.34    \u001b[0m |\n",
      "| \u001b[95m 3       \u001b[0m | \u001b[95m-0.1384  \u001b[0m | \u001b[95m 0.3901  \u001b[0m | \u001b[95m 0.5294  \u001b[0m | \u001b[95m 0.4093  \u001b[0m | \u001b[95m 0.6805  \u001b[0m |\n",
      "| \u001b[95m 3       \u001b[0m | \u001b[95m-0.1384  \u001b[0m | \u001b[95m 0.39    \u001b[0m | \u001b[95m 0.52    \u001b[0m | \u001b[95m 0.4     \u001b[0m | \u001b[95m 0.68    \u001b[0m |\n",
      "END BATCH----------------------------------------------------------------\n",
      "| \u001b[0m 4       \u001b[0m | \u001b[0m-0.164   \u001b[0m | \u001b[0m 0.4193  \u001b[0m | \u001b[0m 0.5098  \u001b[0m | \u001b[0m 0.3898  \u001b[0m | \u001b[0m 0.6991  \u001b[0m |\n",
      "| \u001b[0m 4       \u001b[0m | \u001b[0m-0.164   \u001b[0m | \u001b[0m 0.41    \u001b[0m | \u001b[0m 0.5     \u001b[0m | \u001b[0m 0.38    \u001b[0m | \u001b[0m 0.69    \u001b[0m |\n",
      "| \u001b[95m 5       \u001b[0m | \u001b[95m-0.1134  \u001b[0m | \u001b[95m 0.3701  \u001b[0m | \u001b[95m 0.4904  \u001b[0m | \u001b[95m 0.4291  \u001b[0m | \u001b[95m 0.6699  \u001b[0m |\n",
      "| \u001b[95m 5       \u001b[0m | \u001b[95m-0.1134  \u001b[0m | \u001b[95m 0.37    \u001b[0m | \u001b[95m 0.49    \u001b[0m | \u001b[95m 0.42    \u001b[0m | \u001b[95m 0.66    \u001b[0m |\n",
      "| \u001b[95m 6       \u001b[0m | \u001b[95m-0.06711 \u001b[0m | \u001b[95m 0.4404  \u001b[0m | \u001b[95m 0.5399  \u001b[0m | \u001b[95m 0.3904  \u001b[0m | \u001b[95m 0.681   \u001b[0m |\n",
      "| \u001b[95m 6       \u001b[0m | \u001b[95m-0.06711 \u001b[0m | \u001b[95m 0.44    \u001b[0m | \u001b[95m 0.53    \u001b[0m | \u001b[95m 0.39    \u001b[0m | \u001b[95m 0.68    \u001b[0m |\n",
      "| \u001b[0m 7       \u001b[0m | \u001b[0m-0.1442  \u001b[0m | \u001b[0m 0.3703  \u001b[0m | \u001b[0m 0.579   \u001b[0m | \u001b[0m 0.4205  \u001b[0m | \u001b[0m 0.669   \u001b[0m |\n",
      "| \u001b[0m 7       \u001b[0m | \u001b[0m-0.1442  \u001b[0m | \u001b[0m 0.37    \u001b[0m | \u001b[0m 0.57    \u001b[0m | \u001b[0m 0.42    \u001b[0m | \u001b[0m 0.66    \u001b[0m |\n",
      "END BATCH----------------------------------------------------------------\n",
      "| \u001b[95m 8       \u001b[0m | \u001b[95m 2.905   \u001b[0m | \u001b[95m 0.7999  \u001b[0m | \u001b[95m 0.5301  \u001b[0m | \u001b[95m 0.9306  \u001b[0m | \u001b[95m 0.55    \u001b[0m |\n",
      "| \u001b[95m 8       \u001b[0m | \u001b[95m 2.905   \u001b[0m | \u001b[95m 0.79    \u001b[0m | \u001b[95m 0.53    \u001b[0m | \u001b[95m 0.93    \u001b[0m | \u001b[95m 0.55    \u001b[0m |\n",
      "| \u001b[0m 9       \u001b[0m | \u001b[0m 2.845   \u001b[0m | \u001b[0m 0.8102  \u001b[0m | \u001b[0m 0.5398  \u001b[0m | \u001b[0m 0.89    \u001b[0m | \u001b[0m 0.5496  \u001b[0m |\n",
      "| \u001b[0m 9       \u001b[0m | \u001b[0m 2.845   \u001b[0m | \u001b[0m 0.81    \u001b[0m | \u001b[0m 0.53    \u001b[0m | \u001b[0m 0.89    \u001b[0m | \u001b[0m 0.54    \u001b[0m |\n",
      "| \u001b[95m 10      \u001b[0m | \u001b[95m 2.955   \u001b[0m | \u001b[95m 0.7897  \u001b[0m | \u001b[95m 0.5395  \u001b[0m | \u001b[95m 0.9194  \u001b[0m | \u001b[95m 0.5294  \u001b[0m |\n",
      "| \u001b[95m 10      \u001b[0m | \u001b[95m 2.955   \u001b[0m | \u001b[95m 0.78    \u001b[0m | \u001b[95m 0.53    \u001b[0m | \u001b[95m 0.91    \u001b[0m | \u001b[95m 0.52    \u001b[0m |\n",
      "END BATCH----------------------------------------------------------------\n",
      "| \u001b[0m 11      \u001b[0m | \u001b[0m 2.817   \u001b[0m | \u001b[0m 0.8899  \u001b[0m | \u001b[0m 0.499   \u001b[0m | \u001b[0m 0.9905  \u001b[0m | \u001b[0m 0.1207  \u001b[0m |\n",
      "| \u001b[0m 11      \u001b[0m | \u001b[0m 2.817   \u001b[0m | \u001b[0m 0.88    \u001b[0m | \u001b[0m 0.49    \u001b[0m | \u001b[0m 0.99    \u001b[0m | \u001b[0m 0.12    \u001b[0m |\n",
      "| \u001b[0m 12      \u001b[0m | \u001b[0m 2.674   \u001b[0m | \u001b[0m 0.9305  \u001b[0m | \u001b[0m 0.4802  \u001b[0m | \u001b[0m 0.9906  \u001b[0m | \u001b[0m 0.1002  \u001b[0m |\n",
      "| \u001b[0m 12      \u001b[0m | \u001b[0m 2.674   \u001b[0m | \u001b[0m 0.93    \u001b[0m | \u001b[0m 0.48    \u001b[0m | \u001b[0m 0.99    \u001b[0m | \u001b[0m 0.1     \u001b[0m |\n",
      "| \u001b[0m 13      \u001b[0m | \u001b[0m 2.878   \u001b[0m | \u001b[0m 0.9598  \u001b[0m | \u001b[0m 0.5701  \u001b[0m | \u001b[0m 0.9993  \u001b[0m | \u001b[0m 0.1509  \u001b[0m |\n",
      "| \u001b[0m 13      \u001b[0m | \u001b[0m 2.878   \u001b[0m | \u001b[0m 0.95    \u001b[0m | \u001b[0m 0.57    \u001b[0m | \u001b[0m 0.99    \u001b[0m | \u001b[0m 0.15    \u001b[0m |\n",
      "END BATCH----------------------------------------------------------------\n",
      "=========================================================================\n",
      "Maximum value found using discrete GPs: 2.954668468417976\n",
      "Time taken: 1.7868928909301758 seconds for 4 iterations\n"
     ]
    }
   ],
   "source": [
    "start = time.time()\n",
    "n_iter =4\n",
    "dbo = DiscreteBayesianOptimization(\n",
    "    f=None,\n",
    "    prange=prange,\n",
    "    verbose=2,\n",
    "    random_state=1\n",
    ")\n",
    "dbo._prime_subscriptions()\n",
    "dbo.dispatch(Events.OPTMIZATION_START)\n",
    "for _ in range(n_iter):\n",
    "    next_points = dbo.suggest(utility,n_acqs=3,n_iter=250,multiprocessing=4)\n",
    "    target = []\n",
    "    for next_point in next_points:\n",
    "        for key in next_point:\n",
    "            next_point[key] += np.random.uniform(-.001,.001) #makes discrete point diff than bin\n",
    "        target = parabolic.f(**next_point)\n",
    "        dbo.register(params=next_point, target=target)\n",
    "    dbo.dispatch(Events.BATCH_END)\n",
    "dbo.dispatch(Events.OPTMIZATION_END)\n",
    "print(\"Maximum value found using discrete GPs: {}\".format(dbo.max['target']))\n",
    "print(\"Time taken: {} seconds for {} iterations\".format(time.time()-start,n_iter))"
   ]
  },
  {
   "cell_type": "markdown",
   "metadata": {},
   "source": [
    "## Discrete optimization using class methods\n",
    "Demonstrating slice sampling."
   ]
  },
  {
   "cell_type": "code",
   "execution_count": 12,
   "metadata": {},
   "outputs": [
    {
     "name": "stdout",
     "output_type": "stream",
     "text": [
      "|   iter    |  target   |    x_0    |    x_1    |    x_2    |    x_3    |\n",
      "-------------------------------------------------------------------------\n",
      "| \u001b[0m 1       \u001b[0m | \u001b[0m-1.538   \u001b[0m | \u001b[0m 0.4098  \u001b[0m | \u001b[0m 0.7209  \u001b[0m | \u001b[0m 0.000537\u001b[0m | \u001b[0m 0.3009  \u001b[0m |\n",
      "| \u001b[0m 1       \u001b[0m | \u001b[0m-1.538   \u001b[0m | \u001b[0m 0.4     \u001b[0m | \u001b[0m 0.72    \u001b[0m | \u001b[0m 0.0     \u001b[0m | \u001b[0m 0.3     \u001b[0m |\n",
      "| \u001b[0m 2       \u001b[0m | \u001b[0m-1.568   \u001b[0m | \u001b[0m 0.1397  \u001b[0m | \u001b[0m 0.09009 \u001b[0m | \u001b[0m 0.1803  \u001b[0m | \u001b[0m 0.3395  \u001b[0m |\n",
      "| \u001b[0m 2       \u001b[0m | \u001b[0m-1.568   \u001b[0m | \u001b[0m 0.13    \u001b[0m | \u001b[0m 0.09    \u001b[0m | \u001b[0m 0.18    \u001b[0m | \u001b[0m 0.33    \u001b[0m |\n",
      "| \u001b[95m 3       \u001b[0m | \u001b[95m 0.5683  \u001b[0m | \u001b[95m 0.3909  \u001b[0m | \u001b[95m 0.5291  \u001b[0m | \u001b[95m 0.4092  \u001b[0m | \u001b[95m 0.6808  \u001b[0m |\n",
      "| \u001b[95m 3       \u001b[0m | \u001b[95m 0.5683  \u001b[0m | \u001b[95m 0.39    \u001b[0m | \u001b[95m 0.52    \u001b[0m | \u001b[95m 0.4     \u001b[0m | \u001b[95m 0.68    \u001b[0m |\n",
      "END BATCH----------------------------------------------------------------\n",
      "| \u001b[0m 4       \u001b[0m | \u001b[0m 0.4268  \u001b[0m | \u001b[0m 0.361   \u001b[0m | \u001b[0m 0.2394  \u001b[0m | \u001b[0m 0.3905  \u001b[0m | \u001b[0m 0.6998  \u001b[0m |\n",
      "| \u001b[0m 4       \u001b[0m | \u001b[0m 0.4268  \u001b[0m | \u001b[0m 0.36    \u001b[0m | \u001b[0m 0.23    \u001b[0m | \u001b[0m 0.39    \u001b[0m | \u001b[0m 0.69    \u001b[0m |\n",
      "| \u001b[95m 5       \u001b[0m | \u001b[95m 1.158   \u001b[0m | \u001b[95m 0.61    \u001b[0m | \u001b[95m 0.7693  \u001b[0m | \u001b[95m 0.5703  \u001b[0m | \u001b[95m 0.6293  \u001b[0m |\n",
      "| \u001b[95m 5       \u001b[0m | \u001b[95m 1.158   \u001b[0m | \u001b[95m 0.6     \u001b[0m | \u001b[95m 0.76    \u001b[0m | \u001b[95m 0.57    \u001b[0m | \u001b[95m 0.62    \u001b[0m |\n",
      "| \u001b[0m 6       \u001b[0m | \u001b[0m 0.3423  \u001b[0m | \u001b[0m 0.53    \u001b[0m | \u001b[0m 0.3697  \u001b[0m | \u001b[0m 0.4897  \u001b[0m | \u001b[0m 0.1994  \u001b[0m |\n",
      "| \u001b[0m 6       \u001b[0m | \u001b[0m 0.3423  \u001b[0m | \u001b[0m 0.53    \u001b[0m | \u001b[0m 0.36    \u001b[0m | \u001b[0m 0.48    \u001b[0m | \u001b[0m 0.19    \u001b[0m |\n",
      "END BATCH----------------------------------------------------------------\n",
      "| \u001b[0m 7       \u001b[0m | \u001b[0m 0.2475  \u001b[0m | \u001b[0m 0.3499  \u001b[0m | \u001b[0m 0.2194  \u001b[0m | \u001b[0m 0.4493  \u001b[0m | \u001b[0m 0.4403  \u001b[0m |\n",
      "| \u001b[0m 7       \u001b[0m | \u001b[0m 0.2475  \u001b[0m | \u001b[0m 0.34    \u001b[0m | \u001b[0m 0.21    \u001b[0m | \u001b[0m 0.44    \u001b[0m | \u001b[0m 0.44    \u001b[0m |\n",
      "| \u001b[95m 8       \u001b[0m | \u001b[95m 2.184   \u001b[0m | \u001b[95m 0.6994  \u001b[0m | \u001b[95m 0.5301  \u001b[0m | \u001b[95m 0.7595  \u001b[0m | \u001b[95m 0.4905  \u001b[0m |\n",
      "| \u001b[95m 8       \u001b[0m | \u001b[95m 2.184   \u001b[0m | \u001b[95m 0.69    \u001b[0m | \u001b[95m 0.53    \u001b[0m | \u001b[95m 0.75    \u001b[0m | \u001b[95m 0.49    \u001b[0m |\n",
      "| \u001b[0m 9       \u001b[0m | \u001b[0m-0.3764  \u001b[0m | \u001b[0m 0.3804  \u001b[0m | \u001b[0m 0.7909  \u001b[0m | \u001b[0m 0.2905  \u001b[0m | \u001b[0m 0.57    \u001b[0m |\n",
      "| \u001b[0m 9       \u001b[0m | \u001b[0m-0.3764  \u001b[0m | \u001b[0m 0.38    \u001b[0m | \u001b[0m 0.79    \u001b[0m | \u001b[0m 0.29    \u001b[0m | \u001b[0m 0.56    \u001b[0m |\n",
      "END BATCH----------------------------------------------------------------\n",
      "| \u001b[0m 10      \u001b[0m | \u001b[0m 1.927   \u001b[0m | \u001b[0m 0.5206  \u001b[0m | \u001b[0m 0.48    \u001b[0m | \u001b[0m 0.7794  \u001b[0m | \u001b[0m 0.7394  \u001b[0m |\n",
      "| \u001b[0m 10      \u001b[0m | \u001b[0m 1.927   \u001b[0m | \u001b[0m 0.52    \u001b[0m | \u001b[0m 0.47    \u001b[0m | \u001b[0m 0.77    \u001b[0m | \u001b[0m 0.73    \u001b[0m |\n",
      "| \u001b[0m 11      \u001b[0m | \u001b[0m 0.2498  \u001b[0m | \u001b[0m 0.5103  \u001b[0m | \u001b[0m 0.4304  \u001b[0m | \u001b[0m 0.2096  \u001b[0m | \u001b[0m 0.5699  \u001b[0m |\n",
      "| \u001b[0m 11      \u001b[0m | \u001b[0m 0.2498  \u001b[0m | \u001b[0m 0.51    \u001b[0m | \u001b[0m 0.43    \u001b[0m | \u001b[0m 0.2     \u001b[0m | \u001b[0m 0.56    \u001b[0m |\n",
      "| \u001b[0m 12      \u001b[0m | \u001b[0m 0.9854  \u001b[0m | \u001b[0m 0.6291  \u001b[0m | \u001b[0m 0.5408  \u001b[0m | \u001b[0m 0.751   \u001b[0m | \u001b[0m 0.2293  \u001b[0m |\n",
      "| \u001b[0m 12      \u001b[0m | \u001b[0m 0.9854  \u001b[0m | \u001b[0m 0.62    \u001b[0m | \u001b[0m 0.54    \u001b[0m | \u001b[0m 0.75    \u001b[0m | \u001b[0m 0.22    \u001b[0m |\n",
      "END BATCH----------------------------------------------------------------\n",
      "=========================================================================\n",
      "Maximum value found using discrete GPs: 2.1841526087712815\n",
      "Time taken: 2.072582960128784 seconds for 4 iterations\n"
     ]
    }
   ],
   "source": [
    "start = time.time()\n",
    "n_iter =4\n",
    "dbo = DiscreteBayesianOptimization(\n",
    "    f=None,\n",
    "    prange=prange,\n",
    "    verbose=2,\n",
    "    random_state=1\n",
    ")\n",
    "dbo._prime_subscriptions()\n",
    "dbo.dispatch(Events.OPTMIZATION_START)\n",
    "for _ in range(n_iter):\n",
    "    next_points = dbo.suggest(utility,sampler='KMBBO', n_acqs=3,n_iter=250,multiprocessing=4)\n",
    "    target = []\n",
    "    for next_point in next_points:\n",
    "        for key in next_point:\n",
    "            next_point[key] += np.random.uniform(-.001,.001) #makes discrete point diff than bin\n",
    "        target = parabolic.f(**next_point)\n",
    "        dbo.register(params=next_point, target=target)\n",
    "    dbo.dispatch(Events.BATCH_END)\n",
    "dbo.dispatch(Events.OPTMIZATION_END)\n",
    "print(\"Maximum value found using discrete GPs: {}\".format(dbo.max['target']))\n",
    "print(\"Time taken: {} seconds for {} iterations\".format(time.time()-start,n_iter))"
   ]
  },
  {
   "cell_type": "markdown",
   "metadata": {},
   "source": [
    "## Discrete constraiend optimization using class methods"
   ]
  },
  {
   "cell_type": "code",
   "execution_count": 13,
   "metadata": {},
   "outputs": [
    {
     "name": "stdout",
     "output_type": "stream",
     "text": [
      "|   iter    |  target   |    x_0    |    x_1    |    x_2    |    x_3    |\n",
      "-------------------------------------------------------------------------\n",
      "| \u001b[0m 1       \u001b[0m | \u001b[0m-1.543   \u001b[0m | \u001b[0m 0.4106  \u001b[0m | \u001b[0m 0.7199  \u001b[0m | \u001b[0m-0.000943\u001b[0m | \u001b[0m 0.2994  \u001b[0m |\n",
      "| \u001b[0m 1       \u001b[0m | \u001b[0m-1.543   \u001b[0m | \u001b[0m 0.41    \u001b[0m | \u001b[0m 0.71    \u001b[0m | \u001b[0m-0.01    \u001b[0m | \u001b[0m 0.29    \u001b[0m |\n",
      "| \u001b[0m 2       \u001b[0m | \u001b[0m-1.571   \u001b[0m | \u001b[0m 0.1403  \u001b[0m | \u001b[0m 0.08916 \u001b[0m | \u001b[0m 0.1792  \u001b[0m | \u001b[0m 0.3391  \u001b[0m |\n",
      "| \u001b[0m 2       \u001b[0m | \u001b[0m-1.571   \u001b[0m | \u001b[0m 0.14    \u001b[0m | \u001b[0m 0.08    \u001b[0m | \u001b[0m 0.17    \u001b[0m | \u001b[0m 0.33    \u001b[0m |\n",
      "| \u001b[95m 3       \u001b[0m | \u001b[95m 0.5708  \u001b[0m | \u001b[95m 0.3905  \u001b[0m | \u001b[95m 0.5291  \u001b[0m | \u001b[95m 0.4108  \u001b[0m | \u001b[95m 0.6795  \u001b[0m |\n",
      "| \u001b[95m 3       \u001b[0m | \u001b[95m 0.5708  \u001b[0m | \u001b[95m 0.39    \u001b[0m | \u001b[95m 0.52    \u001b[0m | \u001b[95m 0.41    \u001b[0m | \u001b[95m 0.67    \u001b[0m |\n",
      "END BATCH----------------------------------------------------------------\n",
      "| \u001b[95m 4       \u001b[0m | \u001b[95m 3.096   \u001b[0m | \u001b[95m 0.981   \u001b[0m | \u001b[95m 0.3392  \u001b[0m | \u001b[95m 0.84    \u001b[0m | \u001b[95m 0.8909  \u001b[0m |\n",
      "| \u001b[95m 4       \u001b[0m | \u001b[95m 3.096   \u001b[0m | \u001b[95m 0.98    \u001b[0m | \u001b[95m 0.33    \u001b[0m | \u001b[95m 0.83    \u001b[0m | \u001b[95m 0.89    \u001b[0m |\n",
      "| \u001b[0m 5       \u001b[0m | \u001b[0m-0.1792  \u001b[0m | \u001b[0m 0.9896  \u001b[0m | \u001b[0m 0.7698  \u001b[0m | \u001b[0m 0.2005  \u001b[0m | \u001b[0m 0.3304  \u001b[0m |\n",
      "| \u001b[0m 5       \u001b[0m | \u001b[0m-0.1792  \u001b[0m | \u001b[0m 0.98    \u001b[0m | \u001b[0m 0.76    \u001b[0m | \u001b[0m 0.2     \u001b[0m | \u001b[0m 0.33    \u001b[0m |\n",
      "| \u001b[0m 6       \u001b[0m | \u001b[0m 1.843   \u001b[0m | \u001b[0m 0.989   \u001b[0m | \u001b[0m 0.2507  \u001b[0m | \u001b[0m 0.4105  \u001b[0m | \u001b[0m 0.7704  \u001b[0m |\n",
      "| \u001b[0m 6       \u001b[0m | \u001b[0m 1.843   \u001b[0m | \u001b[0m 0.98    \u001b[0m | \u001b[0m 0.25    \u001b[0m | \u001b[0m 0.41    \u001b[0m | \u001b[0m 0.77    \u001b[0m |\n",
      "| \u001b[0m 7       \u001b[0m | \u001b[0m 0.225   \u001b[0m | \u001b[0m 0.36    \u001b[0m | \u001b[0m 0.7106  \u001b[0m | \u001b[0m 0.4408  \u001b[0m | \u001b[0m 0.6797  \u001b[0m |\n",
      "| \u001b[0m 7       \u001b[0m | \u001b[0m 0.225   \u001b[0m | \u001b[0m 0.35    \u001b[0m | \u001b[0m 0.71    \u001b[0m | \u001b[0m 0.44    \u001b[0m | \u001b[0m 0.67    \u001b[0m |\n",
      "END BATCH----------------------------------------------------------------\n",
      "| \u001b[0m 8       \u001b[0m | \u001b[0m 1.806   \u001b[0m | \u001b[0m 0.799   \u001b[0m | \u001b[0m 0.08029 \u001b[0m | \u001b[0m 0.9495  \u001b[0m | \u001b[0m 1.0     \u001b[0m |\n",
      "| \u001b[0m 8       \u001b[0m | \u001b[0m 1.806   \u001b[0m | \u001b[0m 0.79    \u001b[0m | \u001b[0m 0.08    \u001b[0m | \u001b[0m 0.94    \u001b[0m | \u001b[0m 1.0     \u001b[0m |\n",
      "| \u001b[0m 9       \u001b[0m | \u001b[0m 1.831   \u001b[0m | \u001b[0m 0.7992  \u001b[0m | \u001b[0m 0.07908 \u001b[0m | \u001b[0m 0.9509  \u001b[0m | \u001b[0m 0.9901  \u001b[0m |\n",
      "| \u001b[0m 9       \u001b[0m | \u001b[0m 1.831   \u001b[0m | \u001b[0m 0.79    \u001b[0m | \u001b[0m 0.07    \u001b[0m | \u001b[0m 0.95    \u001b[0m | \u001b[0m 0.99    \u001b[0m |\n",
      "| \u001b[0m 10      \u001b[0m | \u001b[0m 1.793   \u001b[0m | \u001b[0m 0.7909  \u001b[0m | \u001b[0m 0.07939 \u001b[0m | \u001b[0m 0.9491  \u001b[0m | \u001b[0m 1.0     \u001b[0m |\n",
      "| \u001b[0m 10      \u001b[0m | \u001b[0m 1.793   \u001b[0m | \u001b[0m 0.79    \u001b[0m | \u001b[0m 0.07    \u001b[0m | \u001b[0m 0.94    \u001b[0m | \u001b[0m 1.0     \u001b[0m |\n",
      "END BATCH----------------------------------------------------------------\n",
      "| \u001b[0m 11      \u001b[0m | \u001b[0m 2.781   \u001b[0m | \u001b[0m 1.0     \u001b[0m | \u001b[0m 0.4691  \u001b[0m | \u001b[0m 0.9892  \u001b[0m | \u001b[0m 0.6102  \u001b[0m |\n",
      "| \u001b[0m 11      \u001b[0m | \u001b[0m 2.781   \u001b[0m | \u001b[0m 1.0     \u001b[0m | \u001b[0m 0.46    \u001b[0m | \u001b[0m 0.98    \u001b[0m | \u001b[0m 0.61    \u001b[0m |\n",
      "| \u001b[0m 12      \u001b[0m | \u001b[0m 2.754   \u001b[0m | \u001b[0m 0.989   \u001b[0m | \u001b[0m 0.4699  \u001b[0m | \u001b[0m 1.001   \u001b[0m | \u001b[0m 0.6098  \u001b[0m |\n",
      "| \u001b[0m 12      \u001b[0m | \u001b[0m 2.754   \u001b[0m | \u001b[0m 0.98    \u001b[0m | \u001b[0m 0.46    \u001b[0m | \u001b[0m 1.0     \u001b[0m | \u001b[0m 0.6     \u001b[0m |\n",
      "| \u001b[0m 13      \u001b[0m | \u001b[0m 2.745   \u001b[0m | \u001b[0m 0.9991  \u001b[0m | \u001b[0m 0.4695  \u001b[0m | \u001b[0m 0.9996  \u001b[0m | \u001b[0m 0.6103  \u001b[0m |\n",
      "| \u001b[0m 13      \u001b[0m | \u001b[0m 2.745   \u001b[0m | \u001b[0m 0.99    \u001b[0m | \u001b[0m 0.46    \u001b[0m | \u001b[0m 0.99    \u001b[0m | \u001b[0m 0.61    \u001b[0m |\n",
      "END BATCH----------------------------------------------------------------\n",
      "| \u001b[0m 14      \u001b[0m | \u001b[0m 2.097   \u001b[0m | \u001b[0m 0.979   \u001b[0m | \u001b[0m 0.7001  \u001b[0m | \u001b[0m 0.8102  \u001b[0m | \u001b[0m 0.9093  \u001b[0m |\n",
      "| \u001b[0m 14      \u001b[0m | \u001b[0m 2.097   \u001b[0m | \u001b[0m 0.97    \u001b[0m | \u001b[0m 0.7     \u001b[0m | \u001b[0m 0.81    \u001b[0m | \u001b[0m 0.9     \u001b[0m |\n",
      "| \u001b[0m 15      \u001b[0m | \u001b[0m 2.02    \u001b[0m | \u001b[0m 0.9996  \u001b[0m | \u001b[0m 0.7006  \u001b[0m | \u001b[0m 0.7894  \u001b[0m | \u001b[0m 0.9299  \u001b[0m |\n",
      "| \u001b[0m 15      \u001b[0m | \u001b[0m 2.02    \u001b[0m | \u001b[0m 0.99    \u001b[0m | \u001b[0m 0.7     \u001b[0m | \u001b[0m 0.78    \u001b[0m | \u001b[0m 0.92    \u001b[0m |\n",
      "| \u001b[0m 16      \u001b[0m | \u001b[0m 2.032   \u001b[0m | \u001b[0m 0.9891  \u001b[0m | \u001b[0m 0.7006  \u001b[0m | \u001b[0m 0.7891  \u001b[0m | \u001b[0m 0.9294  \u001b[0m |\n",
      "| \u001b[0m 16      \u001b[0m | \u001b[0m 2.032   \u001b[0m | \u001b[0m 0.98    \u001b[0m | \u001b[0m 0.7     \u001b[0m | \u001b[0m 0.78    \u001b[0m | \u001b[0m 0.92    \u001b[0m |\n",
      "END BATCH----------------------------------------------------------------\n",
      "| \u001b[0m 17      \u001b[0m | \u001b[0m 1.989   \u001b[0m | \u001b[0m 0.9802  \u001b[0m | \u001b[0m 0.1095  \u001b[0m | \u001b[0m 0.8503  \u001b[0m | \u001b[0m 0.4294  \u001b[0m |\n",
      "| \u001b[0m 17      \u001b[0m | \u001b[0m 1.989   \u001b[0m | \u001b[0m 0.98    \u001b[0m | \u001b[0m 0.1     \u001b[0m | \u001b[0m 0.85    \u001b[0m | \u001b[0m 0.42    \u001b[0m |\n",
      "| \u001b[0m 18      \u001b[0m | \u001b[0m 2.128   \u001b[0m | \u001b[0m 0.9998  \u001b[0m | \u001b[0m 0.1205  \u001b[0m | \u001b[0m 0.8294  \u001b[0m | \u001b[0m 0.4609  \u001b[0m |\n",
      "| \u001b[0m 18      \u001b[0m | \u001b[0m 2.128   \u001b[0m | \u001b[0m 0.99    \u001b[0m | \u001b[0m 0.12    \u001b[0m | \u001b[0m 0.82    \u001b[0m | \u001b[0m 0.46    \u001b[0m |\n",
      "| \u001b[0m 19      \u001b[0m | \u001b[0m 2.132   \u001b[0m | \u001b[0m 0.9906  \u001b[0m | \u001b[0m 0.1203  \u001b[0m | \u001b[0m 0.829   \u001b[0m | \u001b[0m 0.4596  \u001b[0m |\n",
      "| \u001b[0m 19      \u001b[0m | \u001b[0m 2.132   \u001b[0m | \u001b[0m 0.99    \u001b[0m | \u001b[0m 0.12    \u001b[0m | \u001b[0m 0.82    \u001b[0m | \u001b[0m 0.45    \u001b[0m |\n",
      "END BATCH----------------------------------------------------------------\n",
      "| \u001b[95m 20      \u001b[0m | \u001b[95m 3.343   \u001b[0m | \u001b[95m 0.7894  \u001b[0m | \u001b[95m 0.3697  \u001b[0m | \u001b[95m 0.8006  \u001b[0m | \u001b[95m 0.7103  \u001b[0m |\n",
      "| \u001b[95m 20      \u001b[0m | \u001b[95m 3.343   \u001b[0m | \u001b[95m 0.78    \u001b[0m | \u001b[95m 0.36    \u001b[0m | \u001b[95m 0.8     \u001b[0m | \u001b[95m 0.71    \u001b[0m |\n",
      "| \u001b[95m 21      \u001b[0m | \u001b[95m 3.397   \u001b[0m | \u001b[95m 0.7995  \u001b[0m | \u001b[95m 0.3698  \u001b[0m | \u001b[95m 0.8197  \u001b[0m | \u001b[95m 0.7099  \u001b[0m |\n",
      "| \u001b[95m 21      \u001b[0m | \u001b[95m 3.397   \u001b[0m | \u001b[95m 0.79    \u001b[0m | \u001b[95m 0.36    \u001b[0m | \u001b[95m 0.81    \u001b[0m | \u001b[95m 0.7     \u001b[0m |\n",
      "| \u001b[95m 22      \u001b[0m | \u001b[95m 3.469   \u001b[0m | \u001b[95m 0.8203  \u001b[0m | \u001b[95m 0.3695  \u001b[0m | \u001b[95m 0.7804  \u001b[0m | \u001b[95m 0.7103  \u001b[0m |\n",
      "| \u001b[95m 22      \u001b[0m | \u001b[95m 3.469   \u001b[0m | \u001b[95m 0.82    \u001b[0m | \u001b[95m 0.36    \u001b[0m | \u001b[95m 0.78    \u001b[0m | \u001b[95m 0.71    \u001b[0m |\n",
      "END BATCH----------------------------------------------------------------\n",
      "| \u001b[95m 23      \u001b[0m | \u001b[95m 3.568   \u001b[0m | \u001b[95m 0.9595  \u001b[0m | \u001b[95m 0.3709  \u001b[0m | \u001b[95m 0.74    \u001b[0m | \u001b[95m 0.7194  \u001b[0m |\n",
      "| \u001b[95m 23      \u001b[0m | \u001b[95m 3.568   \u001b[0m | \u001b[95m 0.95    \u001b[0m | \u001b[95m 0.37    \u001b[0m | \u001b[95m 0.74    \u001b[0m | \u001b[95m 0.71    \u001b[0m |\n",
      "| \u001b[95m 24      \u001b[0m | \u001b[95m 3.78    \u001b[0m | \u001b[95m 0.9401  \u001b[0m | \u001b[95m 0.3605  \u001b[0m | \u001b[95m 0.7909  \u001b[0m | \u001b[95m 0.699   \u001b[0m |\n",
      "| \u001b[95m 24      \u001b[0m | \u001b[95m 3.78    \u001b[0m | \u001b[95m 0.94    \u001b[0m | \u001b[95m 0.36    \u001b[0m | \u001b[95m 0.79    \u001b[0m | \u001b[95m 0.69    \u001b[0m |\n",
      "| \u001b[0m 25      \u001b[0m | \u001b[0m 3.565   \u001b[0m | \u001b[0m 0.9795  \u001b[0m | \u001b[0m 0.3597  \u001b[0m | \u001b[0m 0.7604  \u001b[0m | \u001b[0m 0.7004  \u001b[0m |\n",
      "| \u001b[0m 25      \u001b[0m | \u001b[0m 3.565   \u001b[0m | \u001b[0m 0.97    \u001b[0m | \u001b[0m 0.35    \u001b[0m | \u001b[0m 0.76    \u001b[0m | \u001b[0m 0.7     \u001b[0m |\n",
      "END BATCH----------------------------------------------------------------\n",
      "| \u001b[0m 26      \u001b[0m | \u001b[0m-2.708   \u001b[0m | \u001b[0m 0.000483\u001b[0m | \u001b[0m 1.0     \u001b[0m | \u001b[0m 0.9992  \u001b[0m | \u001b[0m-0.000476\u001b[0m |\n",
      "| \u001b[0m 26      \u001b[0m | \u001b[0m-2.708   \u001b[0m | \u001b[0m 0.0     \u001b[0m | \u001b[0m 1.0     \u001b[0m | \u001b[0m 0.99    \u001b[0m | \u001b[0m-0.01    \u001b[0m |\n",
      "| \u001b[0m 27      \u001b[0m | \u001b[0m-2.697   \u001b[0m | \u001b[0m 0.000603\u001b[0m | \u001b[0m 0.9992  \u001b[0m | \u001b[0m 0.9909  \u001b[0m | \u001b[0m 0.000209\u001b[0m |\n",
      "| \u001b[0m 27      \u001b[0m | \u001b[0m-2.697   \u001b[0m | \u001b[0m 0.0     \u001b[0m | \u001b[0m 0.99    \u001b[0m | \u001b[0m 0.99    \u001b[0m | \u001b[0m 0.0     \u001b[0m |\n",
      "| \u001b[0m 28      \u001b[0m | \u001b[0m-2.678   \u001b[0m | \u001b[0m-4.769e-0\u001b[0m | \u001b[0m 0.9891  \u001b[0m | \u001b[0m 0.9907  \u001b[0m | \u001b[0m-0.000723\u001b[0m |\n",
      "| \u001b[0m 28      \u001b[0m | \u001b[0m-2.678   \u001b[0m | \u001b[0m-0.01    \u001b[0m | \u001b[0m 0.98    \u001b[0m | \u001b[0m 0.99    \u001b[0m | \u001b[0m-0.01    \u001b[0m |\n",
      "END BATCH----------------------------------------------------------------\n",
      "| \u001b[0m 29      \u001b[0m | \u001b[0m 3.437   \u001b[0m | \u001b[0m 0.9293  \u001b[0m | \u001b[0m 0.2692  \u001b[0m | \u001b[0m 0.8603  \u001b[0m | \u001b[0m 0.7203  \u001b[0m |\n",
      "| \u001b[0m 29      \u001b[0m | \u001b[0m 3.437   \u001b[0m | \u001b[0m 0.92    \u001b[0m | \u001b[0m 0.26    \u001b[0m | \u001b[0m 0.86    \u001b[0m | \u001b[0m 0.72    \u001b[0m |\n",
      "| \u001b[0m 30      \u001b[0m | \u001b[0m 3.446   \u001b[0m | \u001b[0m 0.9502  \u001b[0m | \u001b[0m 0.2799  \u001b[0m | \u001b[0m 0.869   \u001b[0m | \u001b[0m 0.7299  \u001b[0m |\n",
      "| \u001b[0m 30      \u001b[0m | \u001b[0m 3.446   \u001b[0m | \u001b[0m 0.95    \u001b[0m | \u001b[0m 0.27    \u001b[0m | \u001b[0m 0.86    \u001b[0m | \u001b[0m 0.72    \u001b[0m |\n",
      "| \u001b[0m 31      \u001b[0m | \u001b[0m 3.47    \u001b[0m | \u001b[0m 0.9206  \u001b[0m | \u001b[0m 0.2691  \u001b[0m | \u001b[0m 0.8402  \u001b[0m | \u001b[0m 0.7192  \u001b[0m |\n",
      "| \u001b[0m 31      \u001b[0m | \u001b[0m 3.47    \u001b[0m | \u001b[0m 0.92    \u001b[0m | \u001b[0m 0.26    \u001b[0m | \u001b[0m 0.84    \u001b[0m | \u001b[0m 0.71    \u001b[0m |\n",
      "END BATCH----------------------------------------------------------------\n",
      "=========================================================================\n",
      "Maximum value found using discrete GPs: 3.7799746247278945\n",
      "Time taken: 107.85735416412354 seconds for 10 iterations\n"
     ]
    }
   ],
   "source": [
    "start = time.time()\n",
    "n_iter =10\n",
    "constraints = ['2.5 - x_0 - x_1 - x_2']\n",
    "dbo = DiscreteBayesianOptimization(\n",
    "    f=None,\n",
    "    prange=prange,\n",
    "    verbose=2,\n",
    "    random_state=1,\n",
    "    constraints=constraints\n",
    ")\n",
    "dbo._prime_subscriptions()\n",
    "dbo.dispatch(Events.OPTMIZATION_START)\n",
    "for _ in range(n_iter):\n",
    "    next_points = dbo.suggest(utility,n_acqs=3,n_iter=250)\n",
    "    target = []\n",
    "    for next_point in next_points:\n",
    "        for key in next_point:\n",
    "            next_point[key] += np.random.uniform(-.001,.001) #makes discrete point diff than bin\n",
    "        target = parabolic.f(**next_point)\n",
    "        dbo.register(params=next_point, target=target)\n",
    "    dbo.dispatch(Events.BATCH_END)\n",
    "dbo.dispatch(Events.OPTMIZATION_END)\n",
    "print(\"Maximum value found using discrete GPs: {}\".format(dbo.max['target']))\n",
    "print(\"Time taken: {} seconds for {} iterations\".format(time.time()-start,n_iter))"
   ]
  },
  {
   "cell_type": "code",
   "execution_count": 14,
   "metadata": {},
   "outputs": [
    {
     "name": "stdout",
     "output_type": "stream",
     "text": [
      "|   iter    |  target   |    x_0    |    x_1    |    x_2    |    x_3    |\n",
      "-------------------------------------------------------------------------\n",
      "| \u001b[0m 1       \u001b[0m | \u001b[0m-1.54    \u001b[0m | \u001b[0m 0.4098  \u001b[0m | \u001b[0m 0.7191  \u001b[0m | \u001b[0m-0.000103\u001b[0m | \u001b[0m 0.2993  \u001b[0m |\n",
      "| \u001b[0m 1       \u001b[0m | \u001b[0m-1.54    \u001b[0m | \u001b[0m 0.4     \u001b[0m | \u001b[0m 0.71    \u001b[0m | \u001b[0m-0.01    \u001b[0m | \u001b[0m 0.29    \u001b[0m |\n",
      "| \u001b[0m 2       \u001b[0m | \u001b[0m-1.566   \u001b[0m | \u001b[0m 0.14    \u001b[0m | \u001b[0m 0.09059 \u001b[0m | \u001b[0m 0.1802  \u001b[0m | \u001b[0m 0.3403  \u001b[0m |\n",
      "| \u001b[0m 2       \u001b[0m | \u001b[0m-1.566   \u001b[0m | \u001b[0m 0.13    \u001b[0m | \u001b[0m 0.09    \u001b[0m | \u001b[0m 0.18    \u001b[0m | \u001b[0m 0.34    \u001b[0m |\n",
      "| \u001b[95m 3       \u001b[0m | \u001b[95m 0.5682  \u001b[0m | \u001b[95m 0.3904  \u001b[0m | \u001b[95m 0.5307  \u001b[0m | \u001b[95m 0.4107  \u001b[0m | \u001b[95m 0.6797  \u001b[0m |\n",
      "| \u001b[95m 3       \u001b[0m | \u001b[95m 0.5682  \u001b[0m | \u001b[95m 0.39    \u001b[0m | \u001b[95m 0.53    \u001b[0m | \u001b[95m 0.41    \u001b[0m | \u001b[95m 0.67    \u001b[0m |\n",
      "END BATCH----------------------------------------------------------------\n",
      "| \u001b[0m 4       \u001b[0m | \u001b[0m 0.4268  \u001b[0m | \u001b[0m 0.3609  \u001b[0m | \u001b[0m 0.2392  \u001b[0m | \u001b[0m 0.3906  \u001b[0m | \u001b[0m 0.6998  \u001b[0m |\n",
      "| \u001b[0m 4       \u001b[0m | \u001b[0m 0.4268  \u001b[0m | \u001b[0m 0.36    \u001b[0m | \u001b[0m 0.23    \u001b[0m | \u001b[0m 0.39    \u001b[0m | \u001b[0m 0.69    \u001b[0m |\n",
      "| \u001b[95m 5       \u001b[0m | \u001b[95m 1.155   \u001b[0m | \u001b[95m 0.6091  \u001b[0m | \u001b[95m 0.7696  \u001b[0m | \u001b[95m 0.57    \u001b[0m | \u001b[95m 0.6304  \u001b[0m |\n",
      "| \u001b[95m 5       \u001b[0m | \u001b[95m 1.155   \u001b[0m | \u001b[95m 0.6     \u001b[0m | \u001b[95m 0.76    \u001b[0m | \u001b[95m 0.57    \u001b[0m | \u001b[95m 0.63    \u001b[0m |\n",
      "| \u001b[0m 6       \u001b[0m | \u001b[0m 0.3498  \u001b[0m | \u001b[0m 0.5301  \u001b[0m | \u001b[0m 0.3702  \u001b[0m | \u001b[0m 0.4904  \u001b[0m | \u001b[0m 0.201   \u001b[0m |\n",
      "| \u001b[0m 6       \u001b[0m | \u001b[0m 0.3498  \u001b[0m | \u001b[0m 0.53    \u001b[0m | \u001b[0m 0.37    \u001b[0m | \u001b[0m 0.49    \u001b[0m | \u001b[0m 0.2     \u001b[0m |\n",
      "END BATCH----------------------------------------------------------------\n",
      "| \u001b[0m 7       \u001b[0m | \u001b[0m 0.252   \u001b[0m | \u001b[0m 0.35    \u001b[0m | \u001b[0m 0.2206  \u001b[0m | \u001b[0m 0.4502  \u001b[0m | \u001b[0m 0.4405  \u001b[0m |\n",
      "| \u001b[0m 7       \u001b[0m | \u001b[0m 0.252   \u001b[0m | \u001b[0m 0.35    \u001b[0m | \u001b[0m 0.22    \u001b[0m | \u001b[0m 0.45    \u001b[0m | \u001b[0m 0.44    \u001b[0m |\n",
      "| \u001b[95m 8       \u001b[0m | \u001b[95m 2.19    \u001b[0m | \u001b[95m 0.7003  \u001b[0m | \u001b[95m 0.5294  \u001b[0m | \u001b[95m 0.761   \u001b[0m | \u001b[95m 0.4907  \u001b[0m |\n",
      "| \u001b[95m 8       \u001b[0m | \u001b[95m 2.19    \u001b[0m | \u001b[95m 0.7     \u001b[0m | \u001b[95m 0.52    \u001b[0m | \u001b[95m 0.76    \u001b[0m | \u001b[95m 0.49    \u001b[0m |\n",
      "| \u001b[0m 9       \u001b[0m | \u001b[0m-0.3719  \u001b[0m | \u001b[0m 0.3806  \u001b[0m | \u001b[0m 0.7892  \u001b[0m | \u001b[0m 0.2901  \u001b[0m | \u001b[0m 0.5706  \u001b[0m |\n",
      "| \u001b[0m 9       \u001b[0m | \u001b[0m-0.3719  \u001b[0m | \u001b[0m 0.38    \u001b[0m | \u001b[0m 0.78    \u001b[0m | \u001b[0m 0.29    \u001b[0m | \u001b[0m 0.57    \u001b[0m |\n",
      "END BATCH----------------------------------------------------------------\n",
      "| \u001b[0m 10      \u001b[0m | \u001b[0m 1.923   \u001b[0m | \u001b[0m 0.52    \u001b[0m | \u001b[0m 0.4806  \u001b[0m | \u001b[0m 0.7809  \u001b[0m | \u001b[0m 0.7407  \u001b[0m |\n",
      "| \u001b[0m 10      \u001b[0m | \u001b[0m 1.923   \u001b[0m | \u001b[0m 0.51    \u001b[0m | \u001b[0m 0.48    \u001b[0m | \u001b[0m 0.78    \u001b[0m | \u001b[0m 0.74    \u001b[0m |\n",
      "| \u001b[0m 11      \u001b[0m | \u001b[0m 0.2511  \u001b[0m | \u001b[0m 0.509   \u001b[0m | \u001b[0m 0.4305  \u001b[0m | \u001b[0m 0.2109  \u001b[0m | \u001b[0m 0.5694  \u001b[0m |\n",
      "| \u001b[0m 11      \u001b[0m | \u001b[0m 0.2511  \u001b[0m | \u001b[0m 0.5     \u001b[0m | \u001b[0m 0.43    \u001b[0m | \u001b[0m 0.21    \u001b[0m | \u001b[0m 0.56    \u001b[0m |\n",
      "| \u001b[0m 12      \u001b[0m | \u001b[0m 0.9897  \u001b[0m | \u001b[0m 0.6304  \u001b[0m | \u001b[0m 0.5392  \u001b[0m | \u001b[0m 0.7506  \u001b[0m | \u001b[0m 0.229   \u001b[0m |\n",
      "| \u001b[0m 12      \u001b[0m | \u001b[0m 0.9897  \u001b[0m | \u001b[0m 0.63    \u001b[0m | \u001b[0m 0.53    \u001b[0m | \u001b[0m 0.75    \u001b[0m | \u001b[0m 0.22    \u001b[0m |\n",
      "END BATCH----------------------------------------------------------------\n",
      "| \u001b[0m 13      \u001b[0m | \u001b[0m-0.1321  \u001b[0m | \u001b[0m 0.1799  \u001b[0m | \u001b[0m 0.5597  \u001b[0m | \u001b[0m 0.5007  \u001b[0m | \u001b[0m 0.6807  \u001b[0m |\n",
      "| \u001b[0m 13      \u001b[0m | \u001b[0m-0.1321  \u001b[0m | \u001b[0m 0.17    \u001b[0m | \u001b[0m 0.55    \u001b[0m | \u001b[0m 0.5     \u001b[0m | \u001b[0m 0.68    \u001b[0m |\n",
      "| \u001b[0m 14      \u001b[0m | \u001b[0m 2.151   \u001b[0m | \u001b[0m 0.7495  \u001b[0m | \u001b[0m 0.5291  \u001b[0m | \u001b[0m 0.5292  \u001b[0m | \u001b[0m 0.7599  \u001b[0m |\n",
      "| \u001b[0m 14      \u001b[0m | \u001b[0m 2.151   \u001b[0m | \u001b[0m 0.74    \u001b[0m | \u001b[0m 0.52    \u001b[0m | \u001b[0m 0.52    \u001b[0m | \u001b[0m 0.75    \u001b[0m |\n",
      "| \u001b[0m 15      \u001b[0m | \u001b[0m 0.7748  \u001b[0m | \u001b[0m 0.57    \u001b[0m | \u001b[0m 0.4595  \u001b[0m | \u001b[0m 0.6408  \u001b[0m | \u001b[0m 0.2201  \u001b[0m |\n",
      "| \u001b[0m 15      \u001b[0m | \u001b[0m 0.7748  \u001b[0m | \u001b[0m 0.56    \u001b[0m | \u001b[0m 0.45    \u001b[0m | \u001b[0m 0.64    \u001b[0m | \u001b[0m 0.22    \u001b[0m |\n",
      "END BATCH----------------------------------------------------------------\n",
      "| \u001b[0m 16      \u001b[0m | \u001b[0m 1.2     \u001b[0m | \u001b[0m 0.7397  \u001b[0m | \u001b[0m 0.6994  \u001b[0m | \u001b[0m 0.4593  \u001b[0m | \u001b[0m 0.5093  \u001b[0m |\n",
      "| \u001b[0m 16      \u001b[0m | \u001b[0m 1.2     \u001b[0m | \u001b[0m 0.73    \u001b[0m | \u001b[0m 0.69    \u001b[0m | \u001b[0m 0.45    \u001b[0m | \u001b[0m 0.5     \u001b[0m |\n",
      "| \u001b[0m 17      \u001b[0m | \u001b[0m 0.342   \u001b[0m | \u001b[0m 0.2805  \u001b[0m | \u001b[0m 0.6292  \u001b[0m | \u001b[0m 0.7398  \u001b[0m | \u001b[0m 0.4902  \u001b[0m |\n",
      "| \u001b[0m 17      \u001b[0m | \u001b[0m 0.342   \u001b[0m | \u001b[0m 0.28    \u001b[0m | \u001b[0m 0.62    \u001b[0m | \u001b[0m 0.73    \u001b[0m | \u001b[0m 0.49    \u001b[0m |\n",
      "| \u001b[0m 18      \u001b[0m | \u001b[0m 1.734   \u001b[0m | \u001b[0m 0.559   \u001b[0m | \u001b[0m 0.2092  \u001b[0m | \u001b[0m 0.6109  \u001b[0m | \u001b[0m 0.6404  \u001b[0m |\n",
      "| \u001b[0m 18      \u001b[0m | \u001b[0m 1.734   \u001b[0m | \u001b[0m 0.55    \u001b[0m | \u001b[0m 0.2     \u001b[0m | \u001b[0m 0.61    \u001b[0m | \u001b[0m 0.64    \u001b[0m |\n",
      "END BATCH----------------------------------------------------------------\n",
      "| \u001b[0m 19      \u001b[0m | \u001b[0m 0.9617  \u001b[0m | \u001b[0m 0.4594  \u001b[0m | \u001b[0m 0.7293  \u001b[0m | \u001b[0m 0.6507  \u001b[0m | \u001b[0m 0.6706  \u001b[0m |\n",
      "| \u001b[0m 19      \u001b[0m | \u001b[0m 0.9617  \u001b[0m | \u001b[0m 0.45    \u001b[0m | \u001b[0m 0.72    \u001b[0m | \u001b[0m 0.65    \u001b[0m | \u001b[0m 0.67    \u001b[0m |\n",
      "| \u001b[0m 20      \u001b[0m | \u001b[0m 1.642   \u001b[0m | \u001b[0m 0.5702  \u001b[0m | \u001b[0m 0.2407  \u001b[0m | \u001b[0m 0.7694  \u001b[0m | \u001b[0m 0.4408  \u001b[0m |\n",
      "| \u001b[0m 20      \u001b[0m | \u001b[0m 1.642   \u001b[0m | \u001b[0m 0.57    \u001b[0m | \u001b[0m 0.24    \u001b[0m | \u001b[0m 0.76    \u001b[0m | \u001b[0m 0.44    \u001b[0m |\n",
      "| \u001b[0m 21      \u001b[0m | \u001b[0m 0.9962  \u001b[0m | \u001b[0m 0.7703  \u001b[0m | \u001b[0m 0.3692  \u001b[0m | \u001b[0m 0.2498  \u001b[0m | \u001b[0m 0.5909  \u001b[0m |\n",
      "| \u001b[0m 21      \u001b[0m | \u001b[0m 0.9962  \u001b[0m | \u001b[0m 0.77    \u001b[0m | \u001b[0m 0.36    \u001b[0m | \u001b[0m 0.24    \u001b[0m | \u001b[0m 0.59    \u001b[0m |\n",
      "END BATCH----------------------------------------------------------------\n",
      "| \u001b[0m 22      \u001b[0m | \u001b[0m 1.559   \u001b[0m | \u001b[0m 0.7494  \u001b[0m | \u001b[0m 0.7307  \u001b[0m | \u001b[0m 0.63    \u001b[0m | \u001b[0m 0.5107  \u001b[0m |\n",
      "| \u001b[0m 22      \u001b[0m | \u001b[0m 1.559   \u001b[0m | \u001b[0m 0.74    \u001b[0m | \u001b[0m 0.73    \u001b[0m | \u001b[0m 0.63    \u001b[0m | \u001b[0m 0.51    \u001b[0m |\n",
      "| \u001b[0m 23      \u001b[0m | \u001b[0m 1.64    \u001b[0m | \u001b[0m 0.7105  \u001b[0m | \u001b[0m 0.2205  \u001b[0m | \u001b[0m 0.43    \u001b[0m | \u001b[0m 0.64    \u001b[0m |\n",
      "| \u001b[0m 23      \u001b[0m | \u001b[0m 1.64    \u001b[0m | \u001b[0m 0.71    \u001b[0m | \u001b[0m 0.22    \u001b[0m | \u001b[0m 0.43    \u001b[0m | \u001b[0m 0.63    \u001b[0m |\n",
      "| \u001b[0m 24      \u001b[0m | \u001b[0m 0.2732  \u001b[0m | \u001b[0m 0.21    \u001b[0m | \u001b[0m 0.4307  \u001b[0m | \u001b[0m 0.6807  \u001b[0m | \u001b[0m 0.5495  \u001b[0m |\n",
      "| \u001b[0m 24      \u001b[0m | \u001b[0m 0.2732  \u001b[0m | \u001b[0m 0.21    \u001b[0m | \u001b[0m 0.43    \u001b[0m | \u001b[0m 0.68    \u001b[0m | \u001b[0m 0.54    \u001b[0m |\n",
      "END BATCH----------------------------------------------------------------\n",
      "| \u001b[95m 25      \u001b[0m | \u001b[95m 2.421   \u001b[0m | \u001b[95m 0.6202  \u001b[0m | \u001b[95m 0.3198  \u001b[0m | \u001b[95m 0.7591  \u001b[0m | \u001b[95m 0.659   \u001b[0m |\n",
      "| \u001b[95m 25      \u001b[0m | \u001b[95m 2.421   \u001b[0m | \u001b[95m 0.62    \u001b[0m | \u001b[95m 0.31    \u001b[0m | \u001b[95m 0.75    \u001b[0m | \u001b[95m 0.65    \u001b[0m |\n",
      "| \u001b[0m 26      \u001b[0m | \u001b[0m 0.6596  \u001b[0m | \u001b[0m 0.6901  \u001b[0m | \u001b[0m 0.5999  \u001b[0m | \u001b[0m 0.2393  \u001b[0m | \u001b[0m 0.6293  \u001b[0m |\n",
      "| \u001b[0m 26      \u001b[0m | \u001b[0m 0.6596  \u001b[0m | \u001b[0m 0.69    \u001b[0m | \u001b[0m 0.59    \u001b[0m | \u001b[0m 0.23    \u001b[0m | \u001b[0m 0.62    \u001b[0m |\n",
      "| \u001b[0m 27      \u001b[0m | \u001b[0m 0.04834 \u001b[0m | \u001b[0m 0.3508  \u001b[0m | \u001b[0m 0.791   \u001b[0m | \u001b[0m 0.6203  \u001b[0m | \u001b[0m 0.4294  \u001b[0m |\n",
      "| \u001b[0m 27      \u001b[0m | \u001b[0m 0.04834 \u001b[0m | \u001b[0m 0.35    \u001b[0m | \u001b[0m 0.79    \u001b[0m | \u001b[0m 0.62    \u001b[0m | \u001b[0m 0.42    \u001b[0m |\n",
      "END BATCH----------------------------------------------------------------\n",
      "| \u001b[0m 28      \u001b[0m | \u001b[0m 0.162   \u001b[0m | \u001b[0m 0.2093  \u001b[0m | \u001b[0m 0.5098  \u001b[0m | \u001b[0m 0.6598  \u001b[0m | \u001b[0m 0.5208  \u001b[0m |\n",
      "| \u001b[0m 28      \u001b[0m | \u001b[0m 0.162   \u001b[0m | \u001b[0m 0.2     \u001b[0m | \u001b[0m 0.5     \u001b[0m | \u001b[0m 0.65    \u001b[0m | \u001b[0m 0.52    \u001b[0m |\n",
      "| \u001b[0m 29      \u001b[0m | \u001b[0m 1.481   \u001b[0m | \u001b[0m 0.69    \u001b[0m | \u001b[0m 0.2193  \u001b[0m | \u001b[0m 0.4598  \u001b[0m | \u001b[0m 0.4996  \u001b[0m |\n",
      "| \u001b[0m 29      \u001b[0m | \u001b[0m 1.481   \u001b[0m | \u001b[0m 0.69    \u001b[0m | \u001b[0m 0.21    \u001b[0m | \u001b[0m 0.45    \u001b[0m | \u001b[0m 0.49    \u001b[0m |\n",
      "| \u001b[0m 30      \u001b[0m | \u001b[0m 1.516   \u001b[0m | \u001b[0m 0.7793  \u001b[0m | \u001b[0m 0.7397  \u001b[0m | \u001b[0m 0.5199  \u001b[0m | \u001b[0m 0.66    \u001b[0m |\n",
      "| \u001b[0m 30      \u001b[0m | \u001b[0m 1.516   \u001b[0m | \u001b[0m 0.77    \u001b[0m | \u001b[0m 0.73    \u001b[0m | \u001b[0m 0.51    \u001b[0m | \u001b[0m 0.65    \u001b[0m |\n",
      "END BATCH----------------------------------------------------------------\n",
      "=========================================================================\n",
      "Maximum value found using discrete GPs: 2.4208287998131945\n",
      "Time taken: 10.995223045349121 seconds for 10 iterations\n"
     ]
    }
   ],
   "source": [
    "start = time.time()\n",
    "n_iter =10\n",
    "constraints = ['3 - x_0 - x_1 - x_2']\n",
    "dbo = DiscreteBayesianOptimization(\n",
    "    f=None,\n",
    "    prange=prange,\n",
    "    verbose=2,\n",
    "    random_state=1,\n",
    "    constraints=constraints\n",
    ")\n",
    "dbo._prime_subscriptions()\n",
    "dbo.dispatch(Events.OPTMIZATION_START)\n",
    "for _ in range(n_iter):\n",
    "    next_points = dbo.suggest(utility,sampler='KMBBO', n_acqs=3,n_iter=250,multiprocessing=4)\n",
    "\n",
    "    target = []\n",
    "    for next_point in next_points:\n",
    "        for key in next_point:\n",
    "            next_point[key] += np.random.uniform(-.001,.001) #makes discrete point diff than bin\n",
    "        target = parabolic.f(**next_point)\n",
    "        dbo.register(params=next_point, target=target)\n",
    "    dbo.dispatch(Events.BATCH_END)\n",
    "dbo.dispatch(Events.OPTMIZATION_END)\n",
    "print(\"Maximum value found using discrete GPs: {}\".format(dbo.max['target']))\n",
    "print(\"Time taken: {} seconds for {} iterations\".format(time.time()-start,n_iter))"
   ]
  }
 ],
 "metadata": {
  "kernelspec": {
   "display_name": "Python 3",
   "language": "python",
   "name": "python3"
  },
  "language_info": {
   "codemirror_mode": {
    "name": "ipython",
    "version": 3
   },
   "file_extension": ".py",
   "mimetype": "text/x-python",
   "name": "python",
   "nbconvert_exporter": "python",
   "pygments_lexer": "ipython3",
   "version": "3.6.8"
  }
 },
 "nbformat": 4,
 "nbformat_minor": 2
}
